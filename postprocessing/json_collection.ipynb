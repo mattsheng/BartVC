{
 "cells": [
  {
   "cell_type": "code",
   "execution_count": null,
   "metadata": {},
   "outputs": [],
   "source": [
    "import os\n",
    "import json\n",
    "import pandas as pd\n",
    "import pyarrow.feather as feather\n",
    "from pathlib import Path"
   ]
  },
  {
   "cell_type": "code",
   "execution_count": null,
   "metadata": {},
   "outputs": [],
   "source": [
    "def json_to_dataframe(path):\n",
    "    # Initialize an empty list to store data from JSON files\n",
    "    data_list = []\n",
    "    failed_files = []\n",
    "\n",
    "    # Traverse through all subdirectories and files\n",
    "    for root, dirs, files in os.walk(path):\n",
    "        for file in files:\n",
    "            if file.endswith(\".json\"):\n",
    "                # Construct the full path to the JSON file\n",
    "                file_path = os.path.join(root, file)\n",
    "\n",
    "                try:\n",
    "                    # Read data from the JSON file\n",
    "                    with open(file_path, \"r\") as json_file:\n",
    "                        json_data = json.load(json_file)\n",
    "                        if \"symbolic_model\" in json_data:\n",
    "                            if isinstance(json_data[\"symbolic_model\"], list):\n",
    "                                sm = [\n",
    "                                    \"B\" + str(i) + \"*\" + ri\n",
    "                                    for i, ri in enumerate(json_data[\"symbolic_model\"])\n",
    "                                ]\n",
    "                                sm = \"+\".join(sm)\n",
    "                                json_data[\"symbolic_model\"] = sm\n",
    "\n",
    "                        # Append the data to the list\n",
    "                        data_list.append(json_data)\n",
    "                except json.JSONDecodeError as e:\n",
    "                    failed_files.append(file_path)\n",
    "\n",
    "    if failed_files:\n",
    "        print(\"\\nFailed files:\")\n",
    "        for f in failed_files:\n",
    "            print(f)\n",
    "\n",
    "    # Create a DataFrame from the list of JSON data\n",
    "    df = pd.DataFrame(data_list)\n",
    "    df.rename(columns={\"dataset\": \"dataset_name\"}, inplace=True)\n",
    "    return df"
   ]
  },
  {
   "cell_type": "code",
   "execution_count": null,
   "metadata": {},
   "outputs": [],
   "source": [
    "notebook_dir = Path().resolve()\n",
    "# in_root_path = notebook_dir.parent / \"results/\"\n",
    "in_root_path = \"/home/mattsheng/Dropbox/srbench/srbench-2.1/results_feynman\"\n",
    "out_root_path = notebook_dir.parent / \"results/no_idx\""
   ]
  },
  {
   "cell_type": "markdown",
   "metadata": {},
   "source": [
    "### BART permutation"
   ]
  },
  {
   "cell_type": "code",
   "execution_count": null,
   "metadata": {},
   "outputs": [],
   "source": [
    "for n in [500, 1000, 1500, 2000]:\n",
    "    feynman_BART_perm = json_to_dataframe(\n",
    "        os.path.join(in_root_path, f\"BART_perm/n_{n}/\")\n",
    "    )\n",
    "    for col in [\"idx_local\", \"idx_gse\", \"idx_gmax\"]:\n",
    "        feynman_BART_perm[col] = feynman_BART_perm[col].apply(\n",
    "            lambda x: [] if x == [\"NA\"] else x\n",
    "        )\n",
    "    feather.write_feather(\n",
    "        feynman_BART_perm,\n",
    "        os.path.join(out_root_path, f\"BART_perm/feynman_BART_perm_n{n}_preidx.feather\"),\n",
    "    )"
   ]
  },
  {
   "cell_type": "markdown",
   "metadata": {},
   "source": [
    "### BART MI"
   ]
  },
  {
   "cell_type": "code",
   "execution_count": null,
   "metadata": {},
   "outputs": [],
   "source": [
    "for n in [500, 1000, 1500, 2000]:\n",
    "    feynman_BART_MI = json_to_dataframe(os.path.join(in_root_path, f\"BART_MI/n_{n}/\"))\n",
    "    for col in [\"idx_vip\", \"idx_mi\", \"mi\"]:\n",
    "        feynman_BART_MI[col] = feynman_BART_MI[col].apply(\n",
    "            lambda x: [] if x == [\"NA\"] else x\n",
    "        )\n",
    "    feather.write_feather(\n",
    "        feynman_BART_MI,\n",
    "        os.path.join(out_root_path, f\"BART_MI/feynman_BART_MI_n{n}_preidx.feather\"),\n",
    "    )"
   ]
  },
  {
   "cell_type": "markdown",
   "metadata": {},
   "source": [
    "### BART VIP Rank & VC-measure"
   ]
  },
  {
   "cell_type": "code",
   "execution_count": null,
   "metadata": {},
   "outputs": [],
   "source": [
    "for n in [500, 1000, 1500, 2000]:\n",
    "    feynman_BART_cluster = json_to_dataframe(\n",
    "        os.path.join(in_root_path, f\"BART_VIP_Rank/n_{n}/\")\n",
    "    )\n",
    "    feather.write_feather(\n",
    "        feynman_BART_cluster,\n",
    "        os.path.join(\n",
    "            out_root_path, f\"BART_VIP_Rank/feynman_BART_VIP_Rank_n{n}_preidx.feather\"\n",
    "        ),\n",
    "    )"
   ]
  },
  {
   "cell_type": "markdown",
   "metadata": {},
   "source": [
    "### DART and DART VC-measure"
   ]
  },
  {
   "cell_type": "code",
   "execution_count": null,
   "metadata": {},
   "outputs": [],
   "source": [
    "for n in [500, 1000, 1500, 2000]:\n",
    "    feynman_DART_cluster = json_to_dataframe(\n",
    "        os.path.join(in_root_path, f\"DART_VC-measure/n_{n}/\")\n",
    "    )\n",
    "    feather.write_feather(\n",
    "        feynman_DART_cluster,\n",
    "        os.path.join(\n",
    "            out_root_path,\n",
    "            f\"DART_VC-measure/feynman_DART_VC-measure_n{n}_preidx.feather\",\n",
    "        ),\n",
    "    )"
   ]
  },
  {
   "cell_type": "markdown",
   "metadata": {},
   "source": [
    "### ABC Bayesian forests"
   ]
  },
  {
   "cell_type": "code",
   "execution_count": null,
   "metadata": {},
   "outputs": [],
   "source": [
    "for n in [500, 1000, 1500, 2000]:\n",
    "    feynman_ABC = json_to_dataframe(\n",
    "        os.path.join(in_root_path, f\"ABC_Bayesian_forests/n_{n}/\")\n",
    "    )\n",
    "    feather.write_feather(\n",
    "        feynman_ABC,\n",
    "        os.path.join(\n",
    "            out_root_path,\n",
    "            f\"ABC_Bayesian_forests/feynman_ABC_Bayesian_forests_n{n}_preidx.feather\",\n",
    "        ),\n",
    "    )"
   ]
  }
 ],
 "metadata": {
  "kernelspec": {
   "display_name": "sympy_new",
   "language": "python",
   "name": "python3"
  },
  "language_info": {
   "codemirror_mode": {
    "name": "ipython",
    "version": 3
   },
   "file_extension": ".py",
   "mimetype": "text/x-python",
   "name": "python",
   "nbconvert_exporter": "python",
   "pygments_lexer": "ipython3",
   "version": "3.11.10"
  }
 },
 "nbformat": 4,
 "nbformat_minor": 2
}
